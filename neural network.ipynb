{
 "cells": [
  {
   "cell_type": "markdown",
   "metadata": {
    "id": "aT8BDlohlBVA"
   },
   "source": []
  },
  {
   "cell_type": "code",
   "execution_count": 1,
   "metadata": {
    "id": "M8ea6aAOlPlU"
   },
   "outputs": [
    {
     "ename": "ModuleNotFoundError",
     "evalue": "No module named 'tensorflow'",
     "output_type": "error",
     "traceback": [
      "\u001b[1;31m---------------------------------------------------------------------------\u001b[0m",
      "\u001b[1;31mModuleNotFoundError\u001b[0m                       Traceback (most recent call last)",
      "\u001b[1;32m<ipython-input-1-12543bc943fc>\u001b[0m in \u001b[0;36m<module>\u001b[1;34m\u001b[0m\n\u001b[1;32m----> 1\u001b[1;33m \u001b[1;32mfrom\u001b[0m \u001b[0mtensorflow\u001b[0m\u001b[1;33m.\u001b[0m\u001b[0mkeras\u001b[0m\u001b[1;33m.\u001b[0m\u001b[0mdatasets\u001b[0m \u001b[1;32mimport\u001b[0m \u001b[0mmnist\u001b[0m \u001b[1;31m#Библиотека с базой Mnist\u001b[0m\u001b[1;33m\u001b[0m\u001b[1;33m\u001b[0m\u001b[0m\n\u001b[0m\u001b[0;32m      2\u001b[0m \u001b[1;32mfrom\u001b[0m \u001b[0mtensorflow\u001b[0m\u001b[1;33m.\u001b[0m\u001b[0mkeras\u001b[0m\u001b[1;33m.\u001b[0m\u001b[0mmodels\u001b[0m \u001b[1;32mimport\u001b[0m \u001b[0mSequential\u001b[0m \u001b[1;31m# Подлючаем класс создания модели Sequential\u001b[0m\u001b[1;33m\u001b[0m\u001b[1;33m\u001b[0m\u001b[0m\n\u001b[0;32m      3\u001b[0m \u001b[1;32mfrom\u001b[0m \u001b[0mtensorflow\u001b[0m\u001b[1;33m.\u001b[0m\u001b[0mkeras\u001b[0m\u001b[1;33m.\u001b[0m\u001b[0mlayers\u001b[0m \u001b[1;32mimport\u001b[0m \u001b[0mDense\u001b[0m \u001b[1;31m# Подключаем класс Dense - полносвязный слой\u001b[0m\u001b[1;33m\u001b[0m\u001b[1;33m\u001b[0m\u001b[0m\n\u001b[0;32m      4\u001b[0m \u001b[1;32mfrom\u001b[0m \u001b[0mtensorflow\u001b[0m\u001b[1;33m.\u001b[0m\u001b[0mkeras\u001b[0m\u001b[1;33m.\u001b[0m\u001b[0moptimizers\u001b[0m \u001b[1;32mimport\u001b[0m \u001b[0mAdam\u001b[0m \u001b[1;31m# Подключаем оптимизатор Adam\u001b[0m\u001b[1;33m\u001b[0m\u001b[1;33m\u001b[0m\u001b[0m\n\u001b[0;32m      5\u001b[0m \u001b[1;32mfrom\u001b[0m \u001b[0mtensorflow\u001b[0m\u001b[1;33m.\u001b[0m\u001b[0mkeras\u001b[0m \u001b[1;32mimport\u001b[0m \u001b[0mutils\u001b[0m \u001b[1;31m#Утилиты для to_categorical\u001b[0m\u001b[1;33m\u001b[0m\u001b[1;33m\u001b[0m\u001b[0m\n",
      "\u001b[1;31mModuleNotFoundError\u001b[0m: No module named 'tensorflow'"
     ]
    }
   ],
   "source": [
    "from tensorflow.keras.datasets import mnist #Библиотека с базой Mnist\n",
    "from tensorflow.keras.models import Sequential # Подлючаем класс создания модели Sequential\n",
    "from tensorflow.keras.layers import Dense # Подключаем класс Dense - полносвязный слой\n",
    "from tensorflow.keras.optimizers import Adam # Подключаем оптимизатор Adam\n",
    "from tensorflow.keras import utils #Утилиты для to_categorical\n",
    "from tensorflow.keras.preprocessing import image #Для отрисовки изображения\n",
    "import numpy as np # Подключаем библиотеку numpy\n",
    "import pylab # Модуль для построения графиков\n",
    "from mpl_toolkits.mplot3d import Axes3D # Модуль для трехмерной графики\n",
    "from google.colab import files #Для загрузки своей картинки\n",
    "import matplotlib.pyplot as plt #Отрисовка изображений\n",
    "from PIL import Image #Отрисовка изображений\n",
    "#Отрисовывать изображения в ноутбуке, а не в консоль или файл\n",
    "%matplotlib inline "
   ]
  },
  {
   "cell_type": "code",
   "execution_count": null,
   "metadata": {
    "colab": {
     "base_uri": "https://localhost:8080/"
    },
    "executionInfo": {
     "elapsed": 1297,
     "status": "ok",
     "timestamp": 1614707927527,
     "user": {
      "displayName": "Роман Ткаченко",
      "photoUrl": "https://lh3.googleusercontent.com/a-/AOh14GjtHNIuYVsH-T9VTUGS2m_-cjdW1aLTlDFXOc4S=s64",
      "userId": "06073298687854264763"
     },
     "user_tz": -180
    },
    "id": "yvbea8i0lmig",
    "outputId": "82c4c2e9-1452-4b02-b20e-13552f38018f"
   },
   "outputs": [
    {
     "name": "stdout",
     "output_type": "stream",
     "text": [
      "Downloading data from https://storage.googleapis.com/tensorflow/tf-keras-datasets/mnist.npz\n",
      "11493376/11490434 [==============================] - 0s 0us/step\n"
     ]
    }
   ],
   "source": [
    "(xtrainOrg, ytrainOrg), (xtestOrg, ytestOrg)= mnist.load_data()"
   ]
  },
  {
   "cell_type": "code",
   "execution_count": null,
   "metadata": {
    "colab": {
     "base_uri": "https://localhost:8080/"
    },
    "executionInfo": {
     "elapsed": 740,
     "status": "ok",
     "timestamp": 1614707931455,
     "user": {
      "displayName": "Роман Ткаченко",
      "photoUrl": "https://lh3.googleusercontent.com/a-/AOh14GjtHNIuYVsH-T9VTUGS2m_-cjdW1aLTlDFXOc4S=s64",
      "userId": "06073298687854264763"
     },
     "user_tz": -180
    },
    "id": "6hqA2ID1pgg0",
    "outputId": "3406843b-2076-4164-ce51-36260832bdb1"
   },
   "outputs": [
    {
     "name": "stdout",
     "output_type": "stream",
     "text": [
      "(60000, 28, 28) (60000, 784) (10000, 28, 28) (10000, 784)\n"
     ]
    }
   ],
   "source": [
    "xTrain=xtrainOrg.reshape(60000,784)\n",
    "xTest=xtestOrg.reshape(10000,784)\n",
    "print(xtrainOrg.shape,xTrain.shape,xtestOrg.shape,xTest.shape)"
   ]
  },
  {
   "cell_type": "code",
   "execution_count": null,
   "metadata": {
    "colab": {
     "base_uri": "https://localhost:8080/"
    },
    "executionInfo": {
     "elapsed": 834,
     "status": "ok",
     "timestamp": 1614707937067,
     "user": {
      "displayName": "Роман Ткаченко",
      "photoUrl": "https://lh3.googleusercontent.com/a-/AOh14GjtHNIuYVsH-T9VTUGS2m_-cjdW1aLTlDFXOc4S=s64",
      "userId": "06073298687854264763"
     },
     "user_tz": -180
    },
    "id": "fA10sYTmtReQ",
    "outputId": "35f88492-d274-4169-8fcd-62e36a813dcc"
   },
   "outputs": [
    {
     "name": "stdout",
     "output_type": "stream",
     "text": [
      "float32 float32\n"
     ]
    }
   ],
   "source": [
    "xTrain = xTrain.astype('float32') \n",
    "xTrain = xTrain / 255 \n",
    "xTest = xTest.astype('float32')\n",
    "xTest = xTest / 255\n",
    "print(xTrain.dtype,xTest.dtype)"
   ]
  },
  {
   "cell_type": "code",
   "execution_count": null,
   "metadata": {
    "id": "RMba3XrRxg5H"
   },
   "outputs": [],
   "source": [
    "yTrain = utils.to_categorical(ytrainOrg, 10)\n",
    "yTest = utils.to_categorical(ytestOrg, 10)"
   ]
  },
  {
   "cell_type": "code",
   "execution_count": null,
   "metadata": {
    "id": "nPWp-nqDyjJY"
   },
   "outputs": [],
   "source": [
    "mymodel=Sequential()\n",
    "mymodel.add(Dense(10, input_dim=784, activation=\"relu\"))\n",
    "mymodel.add(Dense(400, activation=\"relu\"))\n",
    "mymodel.add(Dense(10, activation=\"softmax\"))"
   ]
  },
  {
   "cell_type": "code",
   "execution_count": null,
   "metadata": {
    "colab": {
     "base_uri": "https://localhost:8080/"
    },
    "executionInfo": {
     "elapsed": 987,
     "status": "ok",
     "timestamp": 1614707948993,
     "user": {
      "displayName": "Роман Ткаченко",
      "photoUrl": "https://lh3.googleusercontent.com/a-/AOh14GjtHNIuYVsH-T9VTUGS2m_-cjdW1aLTlDFXOc4S=s64",
      "userId": "06073298687854264763"
     },
     "user_tz": -180
    },
    "id": "QSBE8lANzFv_",
    "outputId": "51168b41-1215-4d92-d08d-32448d54c788"
   },
   "outputs": [
    {
     "name": "stdout",
     "output_type": "stream",
     "text": [
      "Model: \"sequential\"\n",
      "_________________________________________________________________\n",
      "Layer (type)                 Output Shape              Param #   \n",
      "=================================================================\n",
      "dense (Dense)                (None, 10)                7850      \n",
      "_________________________________________________________________\n",
      "dense_1 (Dense)              (None, 400)               4400      \n",
      "_________________________________________________________________\n",
      "dense_2 (Dense)              (None, 10)                4010      \n",
      "=================================================================\n",
      "Total params: 16,260\n",
      "Trainable params: 16,260\n",
      "Non-trainable params: 0\n",
      "_________________________________________________________________\n",
      "None\n"
     ]
    }
   ],
   "source": [
    "mymodel.compile(loss=\"categorical_crossentropy\", optimizer=\"adam\", metrics=[\"accuracy\"])\n",
    "print(mymodel.summary())"
   ]
  },
  {
   "cell_type": "code",
   "execution_count": null,
   "metadata": {
    "colab": {
     "base_uri": "https://localhost:8080/"
    },
    "executionInfo": {
     "elapsed": 17520,
     "status": "ok",
     "timestamp": 1614707997344,
     "user": {
      "displayName": "Роман Ткаченко",
      "photoUrl": "https://lh3.googleusercontent.com/a-/AOh14GjtHNIuYVsH-T9VTUGS2m_-cjdW1aLTlDFXOc4S=s64",
      "userId": "06073298687854264763"
     },
     "user_tz": -180
    },
    "id": "rVb6RuQPzytT",
    "outputId": "9947aec6-fd20-4484-ea66-849ff5d95a34"
   },
   "outputs": [
    {
     "name": "stdout",
     "output_type": "stream",
     "text": [
      "Epoch 1/15\n",
      "469/469 [==============================] - 2s 2ms/step - loss: 0.9653 - accuracy: 0.6801\n",
      "Epoch 2/15\n",
      "469/469 [==============================] - 1s 2ms/step - loss: 0.2743 - accuracy: 0.9174\n",
      "Epoch 3/15\n",
      "469/469 [==============================] - 1s 2ms/step - loss: 0.2203 - accuracy: 0.9346\n",
      "Epoch 4/15\n",
      "469/469 [==============================] - 1s 2ms/step - loss: 0.1936 - accuracy: 0.9422\n",
      "Epoch 5/15\n",
      "469/469 [==============================] - 1s 2ms/step - loss: 0.1692 - accuracy: 0.9494\n",
      "Epoch 6/15\n",
      "469/469 [==============================] - 1s 2ms/step - loss: 0.1533 - accuracy: 0.9540\n",
      "Epoch 7/15\n",
      "469/469 [==============================] - 1s 2ms/step - loss: 0.1467 - accuracy: 0.9558\n",
      "Epoch 8/15\n",
      "469/469 [==============================] - 1s 2ms/step - loss: 0.1369 - accuracy: 0.9569\n",
      "Epoch 9/15\n",
      "469/469 [==============================] - 1s 2ms/step - loss: 0.1319 - accuracy: 0.9589\n",
      "Epoch 10/15\n",
      "469/469 [==============================] - 1s 2ms/step - loss: 0.1261 - accuracy: 0.9606\n",
      "Epoch 11/15\n",
      "469/469 [==============================] - 1s 2ms/step - loss: 0.1179 - accuracy: 0.9636\n",
      "Epoch 12/15\n",
      "469/469 [==============================] - 1s 2ms/step - loss: 0.1156 - accuracy: 0.9644\n",
      "Epoch 13/15\n",
      "469/469 [==============================] - 1s 2ms/step - loss: 0.1100 - accuracy: 0.9652\n",
      "Epoch 14/15\n",
      "469/469 [==============================] - 1s 2ms/step - loss: 0.1070 - accuracy: 0.9661\n",
      "Epoch 15/15\n",
      "469/469 [==============================] - 1s 2ms/step - loss: 0.1052 - accuracy: 0.9669\n"
     ]
    },
    {
     "data": {
      "text/plain": [
       "<tensorflow.python.keras.callbacks.History at 0x7f12354b4b50>"
      ]
     },
     "execution_count": 9,
     "metadata": {
      "tags": []
     },
     "output_type": "execute_result"
    }
   ],
   "source": [
    "mymodel.fit(xTrain, yTrain, batch_size=128, epochs=15, verbose=1)"
   ]
  },
  {
   "cell_type": "code",
   "execution_count": null,
   "metadata": {
    "colab": {
     "base_uri": "https://localhost:8080/"
    },
    "executionInfo": {
     "elapsed": 1259,
     "status": "ok",
     "timestamp": 1614693446293,
     "user": {
      "displayName": "Роман Ткаченко",
      "photoUrl": "https://lh3.googleusercontent.com/a-/AOh14GjtHNIuYVsH-T9VTUGS2m_-cjdW1aLTlDFXOc4S=s64",
      "userId": "06073298687854264763"
     },
     "user_tz": -180
    },
    "id": "vUzPZa9u-hSn",
    "outputId": "8b5c492d-555e-4ab4-f448-3ab1a272d4f3"
   },
   "outputs": [
    {
     "name": "stdout",
     "output_type": "stream",
     "text": [
      "WARNING:tensorflow:Model was constructed with shape (None, 784) for input KerasTensor(type_spec=TensorSpec(shape=(None, 784), dtype=tf.float32, name='dense_12_input'), name='dense_12_input', description=\"created by layer 'dense_12_input'\"), but it was called on an input with incompatible shape (None, 10000, 784).\n",
      "WARNING:tensorflow:5 out of the last 8 calls to <function Model.make_predict_function.<locals>.predict_function at 0x7fc492eb9e60> triggered tf.function retracing. Tracing is expensive and the excessive number of tracings could be due to (1) creating @tf.function repeatedly in a loop, (2) passing tensors with different shapes, (3) passing Python objects instead of tensors. For (1), please define your @tf.function outside of the loop. For (2), @tf.function has experimental_relax_shapes=True option that relaxes argument shapes that can avoid unnecessary retracing. For (3), please refer to https://www.tensorflow.org/guide/function#controlling_retracing and https://www.tensorflow.org/api_docs/python/tf/function for  more details.\n",
      "номера неправильных цифр из тествого набора [  18  104  115  149  151  247  259  290  320  321  359  445  447  449\n",
      "  495  582  591  610  619  646  659  664  691  707  717  726  877  883\n",
      "  936  939  951  956  965 1014 1101 1107 1112 1114 1156 1159 1166 1178\n",
      " 1192 1226 1232 1242 1247 1260 1270 1319 1378 1393 1433 1494 1522 1527\n",
      " 1530 1549 1553 1554 1559 1609 1614 1621 1641 1681 1737 1790 1828 1853\n",
      " 1868 1901 1909 1940 1941 1952 1984 2018 2052 2053 2063 2070 2093 2098\n",
      " 2104 2109 2118 2130 2135 2162 2182 2224 2232 2237 2266 2280 2358 2369\n",
      " 2387 2408 2454 2462 2478 2488 2526 2534 2544 2597 2598 2648 2654 2705\n",
      " 2720 2758 2770 2823 2853 2863 2877 2896 2915 2921 2927 2938 2953 2995\n",
      " 3005 3030 3060 3073 3108 3132 3146 3289 3333 3336 3376 3377 3384 3388\n",
      " 3422 3457 3475 3503 3520 3534 3549 3558 3559 3567 3604 3629 3662 3664\n",
      " 3702 3723 3726 3742 3751 3776 3780 3808 3850 3853 3859 3869 3893 3906\n",
      " 3941 3971 3985 4007 4017 4065 4078 4102 4116 4140 4154 4156 4163 4176\n",
      " 4201 4205 4212 4248 4300 4317 4344 4349 4360 4380 4382 4425 4497 4504\n",
      " 4534 4536 4548 4551 4571 4575 4601 4639 4671 4731 4745 4751 4785 4807\n",
      " 4808 4833 4860 4890 4990 5046 5067 5078 5086 5100 5140 5331 5457 5600\n",
      " 5617 5623 5634 5642 5676 5719 5734 5749 5757 5841 5887 5888 5926 5936\n",
      " 5955 5962 5973 6004 6011 6030 6045 6059 6065 6091 6157 6166 6168 6172\n",
      " 6173 6390 6555 6571 6574 6576 6592 6597 6610 6625 6632 6636 6641 6740\n",
      " 6755 6783 7216 7249 7333 7338 7394 7434 7545 7580 7783 7812 7847 7856\n",
      " 7896 7899 7900 7905 7909 7915 7921 7928 7991 8010 8061 8065 8081 8091\n",
      " 8092 8094 8095 8097 8105 8107 8115 8255 8277 8290 8296 8325 8376 8408\n",
      " 8426 8453 8493 8502 8508 8509 8527 8603 9015 9071 9103 9252 9253 9342\n",
      " 9540 9587 9634 9638 9664 9669 9729 9740 9741 9745 9764 9768 9770 9779\n",
      " 9808 9828 9839 9840 9856 9890 9904 9944 9980]\n",
      "все ли цифры угаданы верно: False\n",
      "доля неугаданных 0.0345\n"
     ]
    }
   ],
   "source": [
    "ntest=10000 #число тестируемых цифр\n",
    "lotx = xTest[range(ntest)]\n",
    "lotxExp=np.expand_dims(lotx,axis=0)\n",
    "lotpredict=mymodel.predict(lotxExp)\n",
    "print('номера неправильно угаданных цифр из тествого набора',\n",
    "      np.where(ytestOrg[range(ntest)]!=np.argmax(lotpredict,axis=2))[1])\n",
    "print('все ли цифры угаданы верно:',(ytestOrg[range(ntest)]==np.argmax(lotpredict,axis=2)).all())# все ли цифры угаданы верно\n",
    "print('доля неугаданных',np.where(ytestOrg[range(ntest)]!=\n",
    "               np.argmax(lotpredict,axis=2))[1].size/ntest)# доля неугаданных"
   ]
  },
  {
   "cell_type": "code",
   "execution_count": null,
   "metadata": {
    "colab": {
     "base_uri": "https://localhost:8080/",
     "height": 318
    },
    "executionInfo": {
     "elapsed": 955,
     "status": "ok",
     "timestamp": 1614711654290,
     "user": {
      "displayName": "Роман Ткаченко",
      "photoUrl": "https://lh3.googleusercontent.com/a-/AOh14GjtHNIuYVsH-T9VTUGS2m_-cjdW1aLTlDFXOc4S=s64",
      "userId": "06073298687854264763"
     },
     "user_tz": -180
    },
    "id": "EwN9VB_IOuww",
    "outputId": "cacebf7b-e5ca-4fff-94de-3d80fce298a8"
   },
   "outputs": [
    {
     "data": {
      "text/html": [
       "<div>\n",
       "<style scoped>\n",
       "    .dataframe tbody tr th:only-of-type {\n",
       "        vertical-align: middle;\n",
       "    }\n",
       "\n",
       "    .dataframe tbody tr th {\n",
       "        vertical-align: top;\n",
       "    }\n",
       "\n",
       "    .dataframe thead th {\n",
       "        text-align: right;\n",
       "    }\n",
       "</style>\n",
       "<table border=\"1\" class=\"dataframe\">\n",
       "  <thead>\n",
       "    <tr style=\"text-align: right;\">\n",
       "      <th></th>\n",
       "      <th>loss</th>\n",
       "      <th>accuracy</th>\n",
       "      <th>1-accuracy</th>\n",
       "      <th>доля ошибок в тесте</th>\n",
       "    </tr>\n",
       "  </thead>\n",
       "  <tbody>\n",
       "    <tr>\n",
       "      <th>стандартные настройки</th>\n",
       "      <td>0.0090</td>\n",
       "      <td>0.9970</td>\n",
       "      <td>0.0030</td>\n",
       "      <td>0.0197</td>\n",
       "    </tr>\n",
       "    <tr>\n",
       "      <th>1й слой 10 нейронов</th>\n",
       "      <td>0.1029</td>\n",
       "      <td>0.9669</td>\n",
       "      <td>0.0331</td>\n",
       "      <td>0.0414</td>\n",
       "    </tr>\n",
       "    <tr>\n",
       "      <th>1й слой 100 нейронов</th>\n",
       "      <td>0.0093</td>\n",
       "      <td>0.9969</td>\n",
       "      <td>0.0031</td>\n",
       "      <td>0.0236</td>\n",
       "    </tr>\n",
       "    <tr>\n",
       "      <th>1й слой 5000 нейронов</th>\n",
       "      <td>0.0063</td>\n",
       "      <td>0.9976</td>\n",
       "      <td>0.0024</td>\n",
       "      <td>0.0163</td>\n",
       "    </tr>\n",
       "    <tr>\n",
       "      <th>активация: linear</th>\n",
       "      <td>0.2709</td>\n",
       "      <td>0.9222</td>\n",
       "      <td>0.0778</td>\n",
       "      <td>0.0815</td>\n",
       "    </tr>\n",
       "    <tr>\n",
       "      <th>batch_size: 1</th>\n",
       "      <td>0.1463</td>\n",
       "      <td>0.9775</td>\n",
       "      <td>0.0225</td>\n",
       "      <td>0.0345</td>\n",
       "    </tr>\n",
       "    <tr>\n",
       "      <th>batch_size: 10</th>\n",
       "      <td>0.0210</td>\n",
       "      <td>0.9950</td>\n",
       "      <td>0.0050</td>\n",
       "      <td>0.0226</td>\n",
       "    </tr>\n",
       "    <tr>\n",
       "      <th>batch_size: 100</th>\n",
       "      <td>0.0091</td>\n",
       "      <td>0.9970</td>\n",
       "      <td>0.0030</td>\n",
       "      <td>0.0257</td>\n",
       "    </tr>\n",
       "    <tr>\n",
       "      <th>batch_size: 60000</th>\n",
       "      <td>0.0901</td>\n",
       "      <td>0.9037</td>\n",
       "      <td>0.0963</td>\n",
       "      <td>0.3368</td>\n",
       "    </tr>\n",
       "  </tbody>\n",
       "</table>\n",
       "</div>"
      ],
      "text/plain": [
       "                         loss  accuracy  1-accuracy  доля ошибок в тесте\n",
       "стандартные настройки  0.0090    0.9970      0.0030               0.0197\n",
       "1й слой 10 нейронов    0.1029    0.9669      0.0331               0.0414\n",
       "1й слой 100 нейронов   0.0093    0.9969      0.0031               0.0236\n",
       "1й слой 5000 нейронов  0.0063    0.9976      0.0024               0.0163\n",
       "активация: linear      0.2709    0.9222      0.0778               0.0815\n",
       "batch_size: 1          0.1463    0.9775      0.0225               0.0345\n",
       "batch_size: 10         0.0210    0.9950      0.0050               0.0226\n",
       "batch_size: 100        0.0091    0.9970      0.0030               0.0257\n",
       "batch_size: 60000      0.0901    0.9037      0.0963               0.3368"
      ]
     },
     "execution_count": 12,
     "metadata": {
      "tags": []
     },
     "output_type": "execute_result"
    }
   ],
   "source": [
    "import pandas as pd\n",
    "table=pd.DataFrame({'loss':[0.009,0.1029,0.0093,0.0063,0.2709,0.1463,0.021,9.10E-03,0.0901],\n",
    "                    'accuracy': [0.997,0.9669,0.9969,0.9976,0.9222,0.9775,0.995,0.997,0.9037],\n",
    "                    '1-accuracy': [0.003,0.0331,0.0031,0.0024,0.0778,0.0225,0.005,0.003,0.0963],\n",
    "                    'доля ошибок в тесте': [0.0197,0.0414,0.0236,0.0163,0.0815,0.0345,0.0226,0.0257,0.3368]},\n",
    "                   index=['стандартные настройки','1й слой 10 нейронов','1й слой 100 нейронов','1й слой 5000 нейронов',\n",
    "                          'активация: linear','batch_size: 1','batch_size: 10','batch_size: 100','batch_size: 60000'])\n",
    "\n",
    "\n",
    "table"
   ]
  },
  {
   "cell_type": "markdown",
   "metadata": {
    "id": "DG8uODcSXR5J"
   },
   "source": [
    "Выводы.\n",
    "\n",
    "Количество нейронов в 1-м слое значительно меньшее 100 ухудшает на 3% точность, а значительно большее 100 уже не сильно приближает точность к 100%, поэтому нет смысла так сильно увеличивать это число, если у нас ограниченные выислительные ресурсы и нам не нужна максимальная точность.\n",
    "\n",
    "Линейная активация уменьшает точность на 7%, значит хуже подходит для данной задачи.\n",
    "\n",
    "При длине блока 1 модель обучается очень долго и точность достигает 98% против 99,7% при стандартных настройках, т.е. такое обучение не дает какого-то выигрыша, а значит явно не рационально. При длине блока 10 и 100 точность примерно равна стандартной и различие только во времени: время понижается при увеличении длины блока. При 60000 точность уже значительно понижается при минимальном времени, т.е. здесь мы отходим от оптимума, поэтому длина в 100 примеров близка к отимальной, если нет строгих ограничений по времени."
   ]
  }
 ],
 "metadata": {
  "colab": {
   "collapsed_sections": [],
   "name": "ДЗ light Введение в нейронные сети .ipynb",
   "provenance": [
    {
     "file_id": "1aMCotvkkur6_NwiG4J11WaCmM2m-qCR4",
     "timestamp": 1614499706293
    },
    {
     "file_id": "17bSBmPE-8FvLSqx6pnF12uEeE4ocSveu",
     "timestamp": 1609831417265
    },
    {
     "file_id": "1WPjj-T0b1_G764xxWNgpxZ7A4mxVgvOR",
     "timestamp": 1598734041116
    }
   ]
  },
  "kernelspec": {
   "display_name": "Python 3",
   "language": "python",
   "name": "python3"
  },
  "language_info": {
   "codemirror_mode": {
    "name": "ipython",
    "version": 3
   },
   "file_extension": ".py",
   "mimetype": "text/x-python",
   "name": "python",
   "nbconvert_exporter": "python",
   "pygments_lexer": "ipython3",
   "version": "3.8.5"
  }
 },
 "nbformat": 4,
 "nbformat_minor": 1
}
