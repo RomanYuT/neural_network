{
 "cells": [
  {
   "cell_type": "markdown",
   "metadata": {
    "id": "aT8BDlohlBVA"
   },
   "source": []
  },
  {
   "cell_type": "code",
   "execution_count": 3,
   "metadata": {
    "id": "M8ea6aAOlPlU"
   },
   "outputs": [],
   "source": [
    "from tensorflow.keras.datasets import mnist #Библиотека с базой Mnist\n",
    "from tensorflow.keras.models import Sequential # Подлючаем класс создания модели Sequential\n",
    "from tensorflow.keras.layers import Dense # Подключаем класс Dense - полносвязный слой\n",
    "from tensorflow.keras.optimizers import Adam # Подключаем оптимизатор Adam\n",
    "from tensorflow.keras import utils #Утилиты для to_categorical\n",
    "from tensorflow.keras.preprocessing import image #Для отрисовки изображения\n",
    "import numpy as np # Подключаем библиотеку numpy\n",
    "import pylab # Модуль для построения графиков\n",
    "from mpl_toolkits.mplot3d import Axes3D # Модуль для трехмерной графики\n",
    "#from google.colab import files #Для загрузки своей картинки\n",
    "import matplotlib.pyplot as plt #Отрисовка изображений\n",
    "from PIL import Image #Отрисовка изображений\n",
    "#Отрисовывать изображения в ноутбуке, а не в консоль или файл\n",
    "%matplotlib inline "
   ]
  },
  {
   "cell_type": "code",
   "execution_count": 4,
   "metadata": {
    "colab": {
     "base_uri": "https://localhost:8080/"
    },
    "executionInfo": {
     "elapsed": 2593,
     "status": "ok",
     "timestamp": 1615844608289,
     "user": {
      "displayName": "Роман Ткаченко",
      "photoUrl": "https://lh3.googleusercontent.com/a-/AOh14GjtHNIuYVsH-T9VTUGS2m_-cjdW1aLTlDFXOc4S=s64",
      "userId": "06073298687854264763"
     },
     "user_tz": -180
    },
    "id": "yvbea8i0lmig",
    "outputId": "891668f0-17c3-4e38-a6cb-7d9074d68228"
   },
   "outputs": [
    {
     "name": "stdout",
     "output_type": "stream",
     "text": [
      "Downloading data from https://storage.googleapis.com/tensorflow/tf-keras-datasets/mnist.npz\n",
      "11493376/11490434 [==============================] - 5s 0us/step\n"
     ]
    }
   ],
   "source": [
    "(xtrainOrg, ytrainOrg), (xtestOrg, ytestOrg)= mnist.load_data()"
   ]
  },
  {
   "cell_type": "code",
   "execution_count": 5,
   "metadata": {
    "colab": {
     "base_uri": "https://localhost:8080/"
    },
    "executionInfo": {
     "elapsed": 1336,
     "status": "ok",
     "timestamp": 1615844610929,
     "user": {
      "displayName": "Роман Ткаченко",
      "photoUrl": "https://lh3.googleusercontent.com/a-/AOh14GjtHNIuYVsH-T9VTUGS2m_-cjdW1aLTlDFXOc4S=s64",
      "userId": "06073298687854264763"
     },
     "user_tz": -180
    },
    "id": "6hqA2ID1pgg0",
    "outputId": "470e5c2c-8fc8-4b3b-b5eb-5d9e454418a5"
   },
   "outputs": [
    {
     "name": "stdout",
     "output_type": "stream",
     "text": [
      "(60000, 28, 28) (60000, 784) (10000, 28, 28) (10000, 784)\n"
     ]
    }
   ],
   "source": [
    "xTrain=xtrainOrg.reshape(60000,784)\n",
    "xTest=xtestOrg.reshape(10000,784)\n",
    "print(xtrainOrg.shape,xTrain.shape,xtestOrg.shape,xTest.shape)"
   ]
  },
  {
   "cell_type": "code",
   "execution_count": 6,
   "metadata": {
    "colab": {
     "base_uri": "https://localhost:8080/"
    },
    "executionInfo": {
     "elapsed": 1652,
     "status": "ok",
     "timestamp": 1615844613241,
     "user": {
      "displayName": "Роман Ткаченко",
      "photoUrl": "https://lh3.googleusercontent.com/a-/AOh14GjtHNIuYVsH-T9VTUGS2m_-cjdW1aLTlDFXOc4S=s64",
      "userId": "06073298687854264763"
     },
     "user_tz": -180
    },
    "id": "fA10sYTmtReQ",
    "outputId": "1d5b8f95-99fc-43c3-b506-37c104af32f6"
   },
   "outputs": [
    {
     "name": "stdout",
     "output_type": "stream",
     "text": [
      "float32 float32\n"
     ]
    }
   ],
   "source": [
    "xTrain = xTrain.astype('float32') \n",
    "xTrain = xTrain / 255 \n",
    "xTest = xTest.astype('float32')\n",
    "xTest = xTest / 255\n",
    "print(xTrain.dtype,xTest.dtype)"
   ]
  },
  {
   "cell_type": "code",
   "execution_count": 7,
   "metadata": {
    "id": "RMba3XrRxg5H"
   },
   "outputs": [],
   "source": [
    "yTrain = utils.to_categorical(ytrainOrg, 10)\n",
    "yTest = utils.to_categorical(ytestOrg, 10)"
   ]
  },
  {
   "cell_type": "code",
   "execution_count": 8,
   "metadata": {
    "id": "nPWp-nqDyjJY"
   },
   "outputs": [],
   "source": [
    "mymodel=Sequential()\n",
    "mymodel.add(Dense(10, input_dim=784, activation=\"relu\"))\n",
    "mymodel.add(Dense(400, activation=\"relu\"))\n",
    "mymodel.add(Dense(10, activation=\"softmax\"))"
   ]
  },
  {
   "cell_type": "code",
   "execution_count": 9,
   "metadata": {
    "colab": {
     "base_uri": "https://localhost:8080/"
    },
    "executionInfo": {
     "elapsed": 1325,
     "status": "ok",
     "timestamp": 1615844619619,
     "user": {
      "displayName": "Роман Ткаченко",
      "photoUrl": "https://lh3.googleusercontent.com/a-/AOh14GjtHNIuYVsH-T9VTUGS2m_-cjdW1aLTlDFXOc4S=s64",
      "userId": "06073298687854264763"
     },
     "user_tz": -180
    },
    "id": "QSBE8lANzFv_",
    "outputId": "f548633e-8fd7-416d-a24a-ef4f81b0ef95"
   },
   "outputs": [
    {
     "name": "stdout",
     "output_type": "stream",
     "text": [
      "Model: \"sequential\"\n",
      "_________________________________________________________________\n",
      "Layer (type)                 Output Shape              Param #   \n",
      "=================================================================\n",
      "dense (Dense)                (None, 10)                7850      \n",
      "_________________________________________________________________\n",
      "dense_1 (Dense)              (None, 400)               4400      \n",
      "_________________________________________________________________\n",
      "dense_2 (Dense)              (None, 10)                4010      \n",
      "=================================================================\n",
      "Total params: 16,260\n",
      "Trainable params: 16,260\n",
      "Non-trainable params: 0\n",
      "_________________________________________________________________\n",
      "None\n"
     ]
    }
   ],
   "source": [
    "mymodel.compile(loss=\"categorical_crossentropy\", optimizer=\"adam\", metrics=[\"accuracy\"])\n",
    "print(mymodel.summary())"
   ]
  },
  {
   "cell_type": "code",
   "execution_count": 10,
   "metadata": {
    "colab": {
     "base_uri": "https://localhost:8080/"
    },
    "executionInfo": {
     "elapsed": 20547,
     "status": "ok",
     "timestamp": 1615844641964,
     "user": {
      "displayName": "Роман Ткаченко",
      "photoUrl": "https://lh3.googleusercontent.com/a-/AOh14GjtHNIuYVsH-T9VTUGS2m_-cjdW1aLTlDFXOc4S=s64",
      "userId": "06073298687854264763"
     },
     "user_tz": -180
    },
    "id": "rVb6RuQPzytT",
    "outputId": "81744954-292c-4f08-ae1c-459081fa1d90"
   },
   "outputs": [
    {
     "name": "stdout",
     "output_type": "stream",
     "text": [
      "Epoch 1/15\n",
      "422/422 [==============================] - 5s 3ms/step - loss: 0.5511 - accuracy: 0.8433 - val_loss: 0.2345 - val_accuracy: 0.9310\n",
      "Epoch 2/15\n",
      "422/422 [==============================] - 1s 2ms/step - loss: 0.2695 - accuracy: 0.9213 - val_loss: 0.1942 - val_accuracy: 0.9427\n",
      "Epoch 3/15\n",
      "422/422 [==============================] - 1s 2ms/step - loss: 0.2227 - accuracy: 0.9342 - val_loss: 0.1754 - val_accuracy: 0.9495\n",
      "Epoch 4/15\n",
      "422/422 [==============================] - 1s 2ms/step - loss: 0.1951 - accuracy: 0.9410 - val_loss: 0.1569 - val_accuracy: 0.9543\n",
      "Epoch 5/15\n",
      "422/422 [==============================] - 1s 2ms/step - loss: 0.1774 - accuracy: 0.9466 - val_loss: 0.1485 - val_accuracy: 0.9568\n",
      "Epoch 6/15\n",
      "422/422 [==============================] - 1s 2ms/step - loss: 0.1632 - accuracy: 0.9508 - val_loss: 0.1443 - val_accuracy: 0.9573\n",
      "Epoch 7/15\n",
      "422/422 [==============================] - 1s 2ms/step - loss: 0.1512 - accuracy: 0.9542 - val_loss: 0.1396 - val_accuracy: 0.9593\n",
      "Epoch 8/15\n",
      "422/422 [==============================] - 1s 2ms/step - loss: 0.1449 - accuracy: 0.9557 - val_loss: 0.1299 - val_accuracy: 0.9623\n",
      "Epoch 9/15\n",
      "422/422 [==============================] - 1s 2ms/step - loss: 0.1358 - accuracy: 0.9579 - val_loss: 0.1295 - val_accuracy: 0.9590\n",
      "Epoch 10/15\n",
      "422/422 [==============================] - 1s 3ms/step - loss: 0.1302 - accuracy: 0.9594 - val_loss: 0.1383 - val_accuracy: 0.9598\n",
      "Epoch 11/15\n",
      "422/422 [==============================] - 1s 2ms/step - loss: 0.1241 - accuracy: 0.9621 - val_loss: 0.1191 - val_accuracy: 0.9648\n",
      "Epoch 12/15\n",
      "422/422 [==============================] - 1s 2ms/step - loss: 0.1189 - accuracy: 0.9641 - val_loss: 0.1222 - val_accuracy: 0.9633\n",
      "Epoch 13/15\n",
      "422/422 [==============================] - 1s 2ms/step - loss: 0.1131 - accuracy: 0.9646 - val_loss: 0.1162 - val_accuracy: 0.9627\n",
      "Epoch 14/15\n",
      "422/422 [==============================] - 1s 3ms/step - loss: 0.1107 - accuracy: 0.9660 - val_loss: 0.1236 - val_accuracy: 0.9613\n",
      "Epoch 15/15\n",
      "422/422 [==============================] - 1s 3ms/step - loss: 0.1070 - accuracy: 0.9664 - val_loss: 0.1189 - val_accuracy: 0.9635\n"
     ]
    },
    {
     "data": {
      "text/plain": [
       "<tensorflow.python.keras.callbacks.History at 0xffec7d57f0>"
      ]
     },
     "execution_count": 10,
     "metadata": {},
     "output_type": "execute_result"
    }
   ],
   "source": [
    "mymodel.fit(xTrain, yTrain, batch_size=128, epochs=15, verbose=1,validation_split=0.1)"
   ]
  },
  {
   "cell_type": "code",
   "execution_count": 11,
   "metadata": {
    "id": "Q27-sXV8AeIb"
   },
   "outputs": [],
   "source": [
    "mymodel2=Sequential()\n",
    "mymodel2.add(Dense(10, input_dim=784, activation=\"relu\"))\n",
    "mymodel2.add(Dense(400, activation=\"relu\"))\n",
    "mymodel2.add(Dense(10, activation=\"softmax\"))"
   ]
  },
  {
   "cell_type": "code",
   "execution_count": 12,
   "metadata": {
    "colab": {
     "base_uri": "https://localhost:8080/"
    },
    "executionInfo": {
     "elapsed": 1106,
     "status": "ok",
     "timestamp": 1615790868711,
     "user": {
      "displayName": "Роман Ткаченко",
      "photoUrl": "https://lh3.googleusercontent.com/a-/AOh14GjtHNIuYVsH-T9VTUGS2m_-cjdW1aLTlDFXOc4S=s64",
      "userId": "06073298687854264763"
     },
     "user_tz": -180
    },
    "id": "EosmzVc8P89i",
    "outputId": "21119ed5-26f3-44e0-b729-8d7602532d98"
   },
   "outputs": [
    {
     "name": "stdout",
     "output_type": "stream",
     "text": [
      "Model: \"sequential\"\n",
      "_________________________________________________________________\n",
      "Layer (type)                 Output Shape              Param #   \n",
      "=================================================================\n",
      "dense (Dense)                (None, 10)                7850      \n",
      "_________________________________________________________________\n",
      "dense_1 (Dense)              (None, 400)               4400      \n",
      "_________________________________________________________________\n",
      "dense_2 (Dense)              (None, 10)                4010      \n",
      "=================================================================\n",
      "Total params: 16,260\n",
      "Trainable params: 16,260\n",
      "Non-trainable params: 0\n",
      "_________________________________________________________________\n",
      "None\n"
     ]
    }
   ],
   "source": [
    "mymodel2.compile(loss=\"categorical_crossentropy\", optimizer=\"adam\", metrics=[\"accuracy\"])\n",
    "print(mymodel.summary())"
   ]
  },
  {
   "cell_type": "code",
   "execution_count": null,
   "metadata": {
    "colab": {
     "base_uri": "https://localhost:8080/"
    },
    "executionInfo": {
     "elapsed": 14913,
     "status": "ok",
     "timestamp": 1615790886232,
     "user": {
      "displayName": "Роман Ткаченко",
      "photoUrl": "https://lh3.googleusercontent.com/a-/AOh14GjtHNIuYVsH-T9VTUGS2m_-cjdW1aLTlDFXOc4S=s64",
      "userId": "06073298687854264763"
     },
     "user_tz": -180
    },
    "id": "-chfMZHQKbz0",
    "outputId": "103ec7b1-198f-40d6-ac2e-0361dd2de135"
   },
   "outputs": [
    {
     "name": "stdout",
     "output_type": "stream",
     "text": [
      "Epoch 1/15\n",
      "235/235 [==============================] - 1s 4ms/step - loss: 1.2081 - accuracy: 0.6213 - val_loss: 0.3538 - val_accuracy: 0.8944\n",
      "Epoch 2/15\n",
      "235/235 [==============================] - 1s 4ms/step - loss: 0.3220 - accuracy: 0.9071 - val_loss: 0.2975 - val_accuracy: 0.9099\n",
      "Epoch 3/15\n",
      "235/235 [==============================] - 1s 4ms/step - loss: 0.2726 - accuracy: 0.9194 - val_loss: 0.2639 - val_accuracy: 0.9206\n",
      "Epoch 4/15\n",
      "235/235 [==============================] - 1s 4ms/step - loss: 0.2321 - accuracy: 0.9329 - val_loss: 0.2495 - val_accuracy: 0.9251\n",
      "Epoch 5/15\n",
      "235/235 [==============================] - 1s 4ms/step - loss: 0.2082 - accuracy: 0.9376 - val_loss: 0.2351 - val_accuracy: 0.9286\n",
      "Epoch 6/15\n",
      "235/235 [==============================] - 1s 4ms/step - loss: 0.1966 - accuracy: 0.9416 - val_loss: 0.2292 - val_accuracy: 0.9307\n",
      "Epoch 7/15\n",
      "235/235 [==============================] - 1s 4ms/step - loss: 0.1796 - accuracy: 0.9458 - val_loss: 0.2220 - val_accuracy: 0.9346\n",
      "Epoch 8/15\n",
      "235/235 [==============================] - 1s 4ms/step - loss: 0.1697 - accuracy: 0.9478 - val_loss: 0.2173 - val_accuracy: 0.9361\n",
      "Epoch 9/15\n",
      "235/235 [==============================] - 1s 4ms/step - loss: 0.1626 - accuracy: 0.9495 - val_loss: 0.2071 - val_accuracy: 0.9395\n",
      "Epoch 10/15\n",
      "235/235 [==============================] - 1s 4ms/step - loss: 0.1481 - accuracy: 0.9531 - val_loss: 0.2021 - val_accuracy: 0.9404\n",
      "Epoch 11/15\n",
      "235/235 [==============================] - 1s 4ms/step - loss: 0.1401 - accuracy: 0.9574 - val_loss: 0.1897 - val_accuracy: 0.9442\n",
      "Epoch 12/15\n",
      "235/235 [==============================] - 1s 4ms/step - loss: 0.1397 - accuracy: 0.9576 - val_loss: 0.1924 - val_accuracy: 0.9437\n",
      "Epoch 13/15\n",
      "235/235 [==============================] - 1s 4ms/step - loss: 0.1254 - accuracy: 0.9625 - val_loss: 0.2109 - val_accuracy: 0.9397\n",
      "Epoch 14/15\n",
      "235/235 [==============================] - 1s 4ms/step - loss: 0.1269 - accuracy: 0.9604 - val_loss: 0.1884 - val_accuracy: 0.9464\n",
      "Epoch 15/15\n",
      "235/235 [==============================] - 1s 4ms/step - loss: 0.1191 - accuracy: 0.9639 - val_loss: 0.1846 - val_accuracy: 0.9479\n"
     ]
    },
    {
     "data": {
      "text/plain": [
       "<tensorflow.python.keras.callbacks.History at 0x7fa6c07ee050>"
      ]
     },
     "execution_count": 15,
     "metadata": {
      "tags": []
     },
     "output_type": "execute_result"
    }
   ],
   "source": [
    "mymodel2.fit(xTrain, yTrain, batch_size=128, epochs=15, verbose=1,validation_split=0.5)"
   ]
  },
  {
   "cell_type": "code",
   "execution_count": null,
   "metadata": {
    "id": "-AqMuwQ5P0ME"
   },
   "outputs": [],
   "source": [
    "mymodel3=Sequential()\n",
    "mymodel3.add(Dense(10, input_dim=784, activation=\"relu\"))\n",
    "mymodel3.add(Dense(400, activation=\"relu\"))\n",
    "mymodel3.add(Dense(10, activation=\"softmax\"))"
   ]
  },
  {
   "cell_type": "code",
   "execution_count": null,
   "metadata": {
    "colab": {
     "base_uri": "https://localhost:8080/"
    },
    "executionInfo": {
     "elapsed": 931,
     "status": "ok",
     "timestamp": 1615790596287,
     "user": {
      "displayName": "Роман Ткаченко",
      "photoUrl": "https://lh3.googleusercontent.com/a-/AOh14GjtHNIuYVsH-T9VTUGS2m_-cjdW1aLTlDFXOc4S=s64",
      "userId": "06073298687854264763"
     },
     "user_tz": -180
    },
    "id": "gEaLfLr-QEvw",
    "outputId": "979882d3-8547-40a0-c138-66f982d0179f"
   },
   "outputs": [
    {
     "name": "stdout",
     "output_type": "stream",
     "text": [
      "Model: \"sequential\"\n",
      "_________________________________________________________________\n",
      "Layer (type)                 Output Shape              Param #   \n",
      "=================================================================\n",
      "dense (Dense)                (None, 10)                7850      \n",
      "_________________________________________________________________\n",
      "dense_1 (Dense)              (None, 400)               4400      \n",
      "_________________________________________________________________\n",
      "dense_2 (Dense)              (None, 10)                4010      \n",
      "=================================================================\n",
      "Total params: 16,260\n",
      "Trainable params: 16,260\n",
      "Non-trainable params: 0\n",
      "_________________________________________________________________\n",
      "None\n"
     ]
    }
   ],
   "source": [
    "mymodel3.compile(loss=\"categorical_crossentropy\", optimizer=\"adam\", metrics=[\"accuracy\"])\n",
    "print(mymodel.summary())"
   ]
  },
  {
   "cell_type": "code",
   "execution_count": null,
   "metadata": {
    "colab": {
     "base_uri": "https://localhost:8080/"
    },
    "executionInfo": {
     "elapsed": 11954,
     "status": "ok",
     "timestamp": 1615790611168,
     "user": {
      "displayName": "Роман Ткаченко",
      "photoUrl": "https://lh3.googleusercontent.com/a-/AOh14GjtHNIuYVsH-T9VTUGS2m_-cjdW1aLTlDFXOc4S=s64",
      "userId": "06073298687854264763"
     },
     "user_tz": -180
    },
    "id": "glFNdqm6LBcG",
    "outputId": "79a9019d-738a-44cc-b89f-ff8b2cfe75c1"
   },
   "outputs": [
    {
     "name": "stdout",
     "output_type": "stream",
     "text": [
      "Epoch 1/15\n",
      "47/47 [==============================] - 2s 26ms/step - loss: 2.0373 - accuracy: 0.3140 - val_loss: 0.9496 - val_accuracy: 0.7287\n",
      "Epoch 2/15\n",
      "47/47 [==============================] - 1s 14ms/step - loss: 0.7415 - accuracy: 0.7837 - val_loss: 0.5272 - val_accuracy: 0.8402\n",
      "Epoch 3/15\n",
      "47/47 [==============================] - 1s 14ms/step - loss: 0.4436 - accuracy: 0.8715 - val_loss: 0.4313 - val_accuracy: 0.8688\n",
      "Epoch 4/15\n",
      "47/47 [==============================] - 1s 14ms/step - loss: 0.3516 - accuracy: 0.8964 - val_loss: 0.3832 - val_accuracy: 0.8830\n",
      "Epoch 5/15\n",
      "47/47 [==============================] - 1s 13ms/step - loss: 0.2915 - accuracy: 0.9115 - val_loss: 0.3636 - val_accuracy: 0.8916\n",
      "Epoch 6/15\n",
      "47/47 [==============================] - 1s 14ms/step - loss: 0.2682 - accuracy: 0.9176 - val_loss: 0.3457 - val_accuracy: 0.8984\n",
      "Epoch 7/15\n",
      "47/47 [==============================] - 1s 14ms/step - loss: 0.2490 - accuracy: 0.9321 - val_loss: 0.3307 - val_accuracy: 0.9025\n",
      "Epoch 8/15\n",
      "47/47 [==============================] - 1s 14ms/step - loss: 0.2294 - accuracy: 0.9368 - val_loss: 0.3344 - val_accuracy: 0.9005\n",
      "Epoch 9/15\n",
      "47/47 [==============================] - 1s 14ms/step - loss: 0.2159 - accuracy: 0.9397 - val_loss: 0.3342 - val_accuracy: 0.9006\n",
      "Epoch 10/15\n",
      "47/47 [==============================] - 1s 13ms/step - loss: 0.2121 - accuracy: 0.9384 - val_loss: 0.3147 - val_accuracy: 0.9091\n",
      "Epoch 11/15\n",
      "47/47 [==============================] - 1s 14ms/step - loss: 0.1824 - accuracy: 0.9468 - val_loss: 0.3140 - val_accuracy: 0.9097\n",
      "Epoch 12/15\n",
      "47/47 [==============================] - 1s 14ms/step - loss: 0.1742 - accuracy: 0.9495 - val_loss: 0.3210 - val_accuracy: 0.9071\n",
      "Epoch 13/15\n",
      "47/47 [==============================] - 1s 14ms/step - loss: 0.1774 - accuracy: 0.9461 - val_loss: 0.3141 - val_accuracy: 0.9089\n",
      "Epoch 14/15\n",
      "47/47 [==============================] - 1s 14ms/step - loss: 0.1471 - accuracy: 0.9598 - val_loss: 0.3074 - val_accuracy: 0.9122\n",
      "Epoch 15/15\n",
      "47/47 [==============================] - 1s 14ms/step - loss: 0.1427 - accuracy: 0.9610 - val_loss: 0.3141 - val_accuracy: 0.9091\n"
     ]
    },
    {
     "data": {
      "text/plain": [
       "<tensorflow.python.keras.callbacks.History at 0x7fa6c432a050>"
      ]
     },
     "execution_count": 10,
     "metadata": {
      "tags": []
     },
     "output_type": "execute_result"
    }
   ],
   "source": [
    "mymodel3.fit(xTrain, yTrain, batch_size=128, epochs=15, verbose=1,validation_split=0.9)"
   ]
  },
  {
   "cell_type": "code",
   "execution_count": null,
   "metadata": {
    "colab": {
     "base_uri": "https://localhost:8080/"
    },
    "executionInfo": {
     "elapsed": 1555,
     "status": "ok",
     "timestamp": 1615793381685,
     "user": {
      "displayName": "Роман Ткаченко",
      "photoUrl": "https://lh3.googleusercontent.com/a-/AOh14GjtHNIuYVsH-T9VTUGS2m_-cjdW1aLTlDFXOc4S=s64",
      "userId": "06073298687854264763"
     },
     "user_tz": -180
    },
    "id": "vUzPZa9u-hSn",
    "outputId": "2080cc3f-ff7e-47ac-d049-053184c03610"
   },
   "outputs": [
    {
     "name": "stdout",
     "output_type": "stream",
     "text": [
      "WARNING:tensorflow:Model was constructed with shape (None, 784) for input KerasTensor(type_spec=TensorSpec(shape=(None, 784), dtype=tf.float32, name='dense_24_input'), name='dense_24_input', description=\"created by layer 'dense_24_input'\"), but it was called on an input with incompatible shape (None, 10000, 784).\n",
      "WARNING:tensorflow:5 out of the last 17 calls to <function Model.make_predict_function.<locals>.predict_function at 0x7fa6c0866950> triggered tf.function retracing. Tracing is expensive and the excessive number of tracings could be due to (1) creating @tf.function repeatedly in a loop, (2) passing tensors with different shapes, (3) passing Python objects instead of tensors. For (1), please define your @tf.function outside of the loop. For (2), @tf.function has experimental_relax_shapes=True option that relaxes argument shapes that can avoid unnecessary retracing. For (3), please refer to https://www.tensorflow.org/guide/function#controlling_retracing and https://www.tensorflow.org/api_docs/python/tf/function for  more details.\n",
      "доля неугаданных при проверочной выборке=0.1:  0.0431\n",
      "доля неугаданных при проверочной выборке=0.5:  0.0514\n",
      "доля неугаданных при проверочной выборке=0.9:  0.0843\n"
     ]
    }
   ],
   "source": [
    "ntest=10000 #число тестируемых цифр\n",
    "lotx = xTest[range(ntest)]\n",
    "lotxExp=np.expand_dims(lotx,axis=0)\n",
    "lotpredict=mymodel.predict(lotxExp)\n",
    "lotpredict2=mymodel2.predict(lotxExp)\n",
    "lotpredict3=mymodel3.predict(lotxExp)\n",
    "\n",
    "print('доля неугаданных картинок в тесте при проверочной выборке=0.1: ',np.where(ytestOrg[range(ntest)]!=\n",
    "               np.argmax(lotpredict,axis=2))[1].size/ntest) # доля неугаданных\n",
    "print('доля неугаданных картинок в тесте  при проверочной выборке=0.5: ',np.where(ytestOrg[range(ntest)]!=\n",
    "               np.argmax(lotpredict2,axis=2))[1].size/ntest)\n",
    "print('доля неугаданных картинок в тесте  при проверочной выборке=0.9: ',np.where(ytestOrg[range(ntest)]!=\n",
    "               np.argmax(lotpredict3,axis=2))[1].size/ntest)               "
   ]
  },
  {
   "cell_type": "markdown",
   "metadata": {
    "id": "DG8uODcSXR5J"
   },
   "source": [
    "Выводы.\n",
    "\n",
    "При повышении доли проверочной выборки с 0.1 до 0.9 точность на ней падает с 96% до 91% при точности на обучающей выборке во всех случаях примерно 96%. И также падает точность на тестовой выборке. Потому что падает доля обучающей выборки, которая должна быть как можно больше. Поэтому выборка 0.1 наиболее оптимальна из этих трех, т.к. она максимальна.\n",
    "\n",
    "Кроме того я проверил, что понижение доли проверочной выборки еще меньше 0.1  хотя и увеличивает точность проверочной выборки, но на тестовой выборке точность остается те же 96%, т.к. практически не меняется величина обучающей выборки, при этом проверочная выборка становится слишком мала для адекватной оценки модели.\n",
    "\n",
    "Значит проверочная выборка 0.1 близка к оптимальной из всего дапазона [0;1]\n"
   ]
  }
 ],
 "metadata": {
  "colab": {
   "collapsed_sections": [],
   "name": "ДЗ Ultra light полносвязные сети .ipynb",
   "provenance": [
    {
     "file_id": "1aMCotvkkur6_NwiG4J11WaCmM2m-qCR4",
     "timestamp": 1614499706293
    },
    {
     "file_id": "17bSBmPE-8FvLSqx6pnF12uEeE4ocSveu",
     "timestamp": 1609831417265
    },
    {
     "file_id": "1WPjj-T0b1_G764xxWNgpxZ7A4mxVgvOR",
     "timestamp": 1598734041116
    }
   ]
  },
  "kernelspec": {
   "display_name": "Python 3",
   "language": "python",
   "name": "python3"
  },
  "language_info": {
   "codemirror_mode": {
    "name": "ipython",
    "version": 3
   },
   "file_extension": ".py",
   "mimetype": "text/x-python",
   "name": "python",
   "nbconvert_exporter": "python",
   "pygments_lexer": "ipython3",
   "version": "3.8.5"
  }
 },
 "nbformat": 4,
 "nbformat_minor": 1
}
